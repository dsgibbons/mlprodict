{
  "cells": [
    {
      "cell_type": "markdown",
      "metadata": {},
      "source": [
        "# ONNX graph, single or double floats\n",
        "\n",
        "The notebook shows discrepencies obtained by using double floats instead of single float in two cases. The second one involves [GaussianProcessRegressor](https://scikit-learn.org/stable/modules/generated/sklearn.gaussian_process.GaussianProcessRegressor.html)."
      ]
    },
    {
      "cell_type": "code",
      "execution_count": 1,
      "metadata": {},
      "outputs": [
        {
          "data": {
            "text/html": [
              "<div id=\"my_id_menu_nb\">run previous cell, wait for 2 seconds</div>\n",
              "<script>\n",
              "function repeat_indent_string(n){\n",
              "    var a = \"\" ;\n",
              "    for ( ; n > 0 ; --n)\n",
              "        a += \"    \";\n",
              "    return a;\n",
              "}\n",
              "// look up into all sections and builds an automated menu //\n",
              "var update_menu_string = function(begin, lfirst, llast, sformat, send, keep_item, begin_format, end_format) {\n",
              "    var anchors = document.getElementsByClassName(\"section\");\n",
              "    if (anchors.length == 0) {\n",
              "        anchors = document.getElementsByClassName(\"text_cell_render rendered_html\");\n",
              "    }\n",
              "    var i,t;\n",
              "    var text_menu = begin;\n",
              "    var text_memo = \"<pre>\\nlength:\" + anchors.length + \"\\n\";\n",
              "    var ind = \"\";\n",
              "    var memo_level = 1;\n",
              "    var href;\n",
              "    var tags = [];\n",
              "    var main_item = 0;\n",
              "    var format_open = 0;\n",
              "    for (i = 0; i <= llast; i++)\n",
              "        tags.push(\"h\" + i);\n",
              "\n",
              "    for (i = 0; i < anchors.length; i++) {\n",
              "        text_memo += \"**\" + anchors[i].id + \"--\\n\";\n",
              "\n",
              "        var child = null;\n",
              "        for(t = 0; t < tags.length; t++) {\n",
              "            var r = anchors[i].getElementsByTagName(tags[t]);\n",
              "            if (r.length > 0) {\n",
              "child = r[0];\n",
              "break;\n",
              "            }\n",
              "        }\n",
              "        if (child == null) {\n",
              "            text_memo += \"null\\n\";\n",
              "            continue;\n",
              "        }\n",
              "        if (anchors[i].hasAttribute(\"id\")) {\n",
              "            // when converted in RST\n",
              "            href = anchors[i].id;\n",
              "            text_memo += \"#1-\" + href;\n",
              "            // passer \u00e0 child suivant (le chercher)\n",
              "        }\n",
              "        else if (child.hasAttribute(\"id\")) {\n",
              "            // in a notebook\n",
              "            href = child.id;\n",
              "            text_memo += \"#2-\" + href;\n",
              "        }\n",
              "        else {\n",
              "            text_memo += \"#3-\" + \"*\" + \"\\n\";\n",
              "            continue;\n",
              "        }\n",
              "        var title = child.textContent;\n",
              "        var level = parseInt(child.tagName.substring(1,2));\n",
              "\n",
              "        text_memo += \"--\" + level + \"?\" + lfirst + \"--\" + title + \"\\n\";\n",
              "\n",
              "        if ((level < lfirst) || (level > llast)) {\n",
              "            continue ;\n",
              "        }\n",
              "        if (title.endsWith('\u00b6')) {\n",
              "            title = title.substring(0,title.length-1).replace(\"<\", \"&lt;\")\n",
              "         .replace(\">\", \"&gt;\").replace(\"&\", \"&amp;\");\n",
              "        }\n",
              "        if (title.length == 0) {\n",
              "            continue;\n",
              "        }\n",
              "\n",
              "        while (level < memo_level) {\n",
              "            text_menu += end_format + \"</ul>\\n\";\n",
              "            format_open -= 1;\n",
              "            memo_level -= 1;\n",
              "        }\n",
              "        if (level == lfirst) {\n",
              "            main_item += 1;\n",
              "        }\n",
              "        if (keep_item != -1 && main_item != keep_item + 1) {\n",
              "            // alert(main_item + \" - \" + level + \" - \" + keep_item);\n",
              "            continue;\n",
              "        }\n",
              "        while (level > memo_level) {\n",
              "            text_menu += \"<ul>\\n\";\n",
              "            memo_level += 1;\n",
              "        }\n",
              "        text_menu += repeat_indent_string(level-2);\n",
              "        text_menu += begin_format + sformat.replace(\"__HREF__\", href).replace(\"__TITLE__\", title);\n",
              "        format_open += 1;\n",
              "    }\n",
              "    while (1 < memo_level) {\n",
              "        text_menu += end_format + \"</ul>\\n\";\n",
              "        memo_level -= 1;\n",
              "        format_open -= 1;\n",
              "    }\n",
              "    text_menu += send;\n",
              "    //text_menu += \"\\n\" + text_memo;\n",
              "\n",
              "    while (format_open > 0) {\n",
              "        text_menu += end_format;\n",
              "        format_open -= 1;\n",
              "    }\n",
              "    return text_menu;\n",
              "};\n",
              "var update_menu = function() {\n",
              "    var sbegin = \"\";\n",
              "    var sformat = '<a href=\"#__HREF__\">__TITLE__</a>';\n",
              "    var send = \"\";\n",
              "    var begin_format = '<li>';\n",
              "    var end_format = '</li>';\n",
              "    var keep_item = -1;\n",
              "    var text_menu = update_menu_string(sbegin, 2, 4, sformat, send, keep_item,\n",
              "       begin_format, end_format);\n",
              "    var menu = document.getElementById(\"my_id_menu_nb\");\n",
              "    menu.innerHTML=text_menu;\n",
              "};\n",
              "window.setTimeout(update_menu,2000);\n",
              "            </script>"
            ],
            "text/plain": [
              "<IPython.core.display.HTML object>"
            ]
          },
          "execution_count": 2,
          "metadata": {},
          "output_type": "execute_result"
        }
      ],
      "source": [
        "from jyquickhelper import add_notebook_menu\n",
        "add_notebook_menu()"
      ]
    },
    {
      "cell_type": "markdown",
      "metadata": {},
      "source": [
        "## Simple case of a linear regression\n",
        "\n",
        "A linear regression is simply a matrix multiplication followed by an addition: $Y=AX+B$. Let's train one with [scikit-learn](https://scikit-learn.org/stable/)."
      ]
    },
    {
      "cell_type": "code",
      "execution_count": 2,
      "metadata": {},
      "outputs": [
        {
          "data": {
            "text/html": [
              "<style>#sk-container-id-1 {color: black;background-color: white;}#sk-container-id-1 pre{padding: 0;}#sk-container-id-1 div.sk-toggleable {background-color: white;}#sk-container-id-1 label.sk-toggleable__label {cursor: pointer;display: block;width: 100%;margin-bottom: 0;padding: 0.3em;box-sizing: border-box;text-align: center;}#sk-container-id-1 label.sk-toggleable__label-arrow:before {content: \"\u25b8\";float: left;margin-right: 0.25em;color: #696969;}#sk-container-id-1 label.sk-toggleable__label-arrow:hover:before {color: black;}#sk-container-id-1 div.sk-estimator:hover label.sk-toggleable__label-arrow:before {color: black;}#sk-container-id-1 div.sk-toggleable__content {max-height: 0;max-width: 0;overflow: hidden;text-align: left;background-color: #f0f8ff;}#sk-container-id-1 div.sk-toggleable__content pre {margin: 0.2em;color: black;border-radius: 0.25em;background-color: #f0f8ff;}#sk-container-id-1 input.sk-toggleable__control:checked~div.sk-toggleable__content {max-height: 200px;max-width: 100%;overflow: auto;}#sk-container-id-1 input.sk-toggleable__control:checked~label.sk-toggleable__label-arrow:before {content: \"\u25be\";}#sk-container-id-1 div.sk-estimator input.sk-toggleable__control:checked~label.sk-toggleable__label {background-color: #d4ebff;}#sk-container-id-1 div.sk-label input.sk-toggleable__control:checked~label.sk-toggleable__label {background-color: #d4ebff;}#sk-container-id-1 input.sk-hidden--visually {border: 0;clip: rect(1px 1px 1px 1px);clip: rect(1px, 1px, 1px, 1px);height: 1px;margin: -1px;overflow: hidden;padding: 0;position: absolute;width: 1px;}#sk-container-id-1 div.sk-estimator {font-family: monospace;background-color: #f0f8ff;border: 1px dotted black;border-radius: 0.25em;box-sizing: border-box;margin-bottom: 0.5em;}#sk-container-id-1 div.sk-estimator:hover {background-color: #d4ebff;}#sk-container-id-1 div.sk-parallel-item::after {content: \"\";width: 100%;border-bottom: 1px solid gray;flex-grow: 1;}#sk-container-id-1 div.sk-label:hover label.sk-toggleable__label {background-color: #d4ebff;}#sk-container-id-1 div.sk-serial::before {content: \"\";position: absolute;border-left: 1px solid gray;box-sizing: border-box;top: 0;bottom: 0;left: 50%;z-index: 0;}#sk-container-id-1 div.sk-serial {display: flex;flex-direction: column;align-items: center;background-color: white;padding-right: 0.2em;padding-left: 0.2em;position: relative;}#sk-container-id-1 div.sk-item {position: relative;z-index: 1;}#sk-container-id-1 div.sk-parallel {display: flex;align-items: stretch;justify-content: center;background-color: white;position: relative;}#sk-container-id-1 div.sk-item::before, #sk-container-id-1 div.sk-parallel-item::before {content: \"\";position: absolute;border-left: 1px solid gray;box-sizing: border-box;top: 0;bottom: 0;left: 50%;z-index: -1;}#sk-container-id-1 div.sk-parallel-item {display: flex;flex-direction: column;z-index: 1;position: relative;background-color: white;}#sk-container-id-1 div.sk-parallel-item:first-child::after {align-self: flex-end;width: 50%;}#sk-container-id-1 div.sk-parallel-item:last-child::after {align-self: flex-start;width: 50%;}#sk-container-id-1 div.sk-parallel-item:only-child::after {width: 0;}#sk-container-id-1 div.sk-dashed-wrapped {border: 1px dashed gray;margin: 0 0.4em 0.5em 0.4em;box-sizing: border-box;padding-bottom: 0.4em;background-color: white;}#sk-container-id-1 div.sk-label label {font-family: monospace;font-weight: bold;display: inline-block;line-height: 1.2em;}#sk-container-id-1 div.sk-label-container {text-align: center;}#sk-container-id-1 div.sk-container {/* jupyter's `normalize.less` sets `[hidden] { display: none; }` but bootstrap.min.css set `[hidden] { display: none !important; }` so we also need the `!important` here to be able to override the default hidden behavior on the sphinx rendered scikit-learn.org. See: https://github.com/scikit-learn/scikit-learn/issues/21755 */display: inline-block !important;position: relative;}#sk-container-id-1 div.sk-text-repr-fallback {display: none;}</style><div id=\"sk-container-id-1\" class=\"sk-top-container\"><div class=\"sk-text-repr-fallback\"><pre>LinearRegression()</pre><b>In a Jupyter environment, please rerun this cell to show the HTML representation or trust the notebook. <br />On GitHub, the HTML representation is unable to render, please try loading this page with nbviewer.org.</b></div><div class=\"sk-container\" hidden><div class=\"sk-item\"><div class=\"sk-estimator sk-toggleable\"><input class=\"sk-toggleable__control sk-hidden--visually\" id=\"sk-estimator-id-1\" type=\"checkbox\" checked><label for=\"sk-estimator-id-1\" class=\"sk-toggleable__label sk-toggleable__label-arrow\">LinearRegression</label><div class=\"sk-toggleable__content\"><pre>LinearRegression()</pre></div></div></div></div></div>"
            ],
            "text/plain": [
              "LinearRegression()"
            ]
          },
          "execution_count": 3,
          "metadata": {},
          "output_type": "execute_result"
        }
      ],
      "source": [
        "from sklearn.linear_model import LinearRegression\n",
        "from sklearn.datasets import load_diabetes\n",
        "from sklearn.model_selection import train_test_split\n",
        "data = load_diabetes()\n",
        "X, y = data.data, data.target\n",
        "X_train, X_test, y_train, y_test = train_test_split(X, y)\n",
        "clr = LinearRegression()\n",
        "clr.fit(X_train, y_train)"
      ]
    },
    {
      "cell_type": "code",
      "execution_count": 3,
      "metadata": {},
      "outputs": [
        {
          "data": {
            "text/plain": [
              "0.48022823853163243"
            ]
          },
          "execution_count": 4,
          "metadata": {},
          "output_type": "execute_result"
        }
      ],
      "source": [
        "clr.score(X_test, y_test)"
      ]
    },
    {
      "cell_type": "code",
      "execution_count": 4,
      "metadata": {},
      "outputs": [
        {
          "data": {
            "text/plain": [
              "array([  -3.66884712, -248.12455809,  503.47675603,  314.42722272,\n",
              "       -937.79829646,  589.5139395 ,  166.9937767 ,  238.52080461,\n",
              "        810.51985926,   83.1649252 ])"
            ]
          },
          "execution_count": 5,
          "metadata": {},
          "output_type": "execute_result"
        }
      ],
      "source": [
        "clr.coef_"
      ]
    },
    {
      "cell_type": "code",
      "execution_count": 5,
      "metadata": {},
      "outputs": [
        {
          "data": {
            "text/plain": [
              "151.72119345267856"
            ]
          },
          "execution_count": 6,
          "metadata": {},
          "output_type": "execute_result"
        }
      ],
      "source": [
        "clr.intercept_"
      ]
    },
    {
      "cell_type": "markdown",
      "metadata": {},
      "source": [
        "Let's predict with *scikit-learn* and *python*."
      ]
    },
    {
      "cell_type": "code",
      "execution_count": 6,
      "metadata": {},
      "outputs": [
        {
          "data": {
            "text/plain": [
              "array([ 65.19089869, 136.63206471, 197.78320816,  76.50979441,\n",
              "       120.17048032])"
            ]
          },
          "execution_count": 7,
          "metadata": {},
          "output_type": "execute_result"
        }
      ],
      "source": [
        "ypred = clr.predict(X_test)\n",
        "ypred[:5]"
      ]
    },
    {
      "cell_type": "code",
      "execution_count": 7,
      "metadata": {},
      "outputs": [
        {
          "data": {
            "text/plain": [
              "array([ 65.19089869, 136.63206471, 197.78320816,  76.50979441,\n",
              "       120.17048032])"
            ]
          },
          "execution_count": 8,
          "metadata": {},
          "output_type": "execute_result"
        }
      ],
      "source": [
        "py_pred = X_test @ clr.coef_ + clr.intercept_\n",
        "py_pred[:5]"
      ]
    },
    {
      "cell_type": "code",
      "execution_count": 8,
      "metadata": {},
      "outputs": [
        {
          "data": {
            "text/plain": [
              "(dtype('float64'), dtype('float64'))"
            ]
          },
          "execution_count": 9,
          "metadata": {},
          "output_type": "execute_result"
        }
      ],
      "source": [
        "clr.coef_.dtype, clr.intercept_.dtype"
      ]
    },
    {
      "cell_type": "markdown",
      "metadata": {},
      "source": [
        "## With ONNX\n",
        "\n",
        "With *ONNX*, we would write this operation as follows... We still need to convert everything into single floats = float32."
      ]
    },
    {
      "cell_type": "code",
      "execution_count": 9,
      "metadata": {},
      "outputs": [],
      "source": [
        "%load_ext mlprodict"
      ]
    },
    {
      "cell_type": "code",
      "execution_count": 10,
      "metadata": {
        "scrolled": false
      },
      "outputs": [
        {
          "data": {
            "text/html": [
              "<div id=\"M0ffce795ed694f0eba71016e066e810b-cont\"><div id=\"M0ffce795ed694f0eba71016e066e810b\" style=\"width:;height:;\"></div></div>\n",
              "<script>\n",
              "\n",
              "require(['http://www.xavierdupre.fr/js/vizjs/viz.js'], function() { var svgGraph = Viz(\"digraph{\\n  nodesep=0.05;\\n  orientation=portrait;\\n  ranksep=0.25;\\n  size=7;\\n\\n  X [shape=box color=red label=\\\"X\\nfloat((0, 10))\\\" fontsize=10];\\n\\n  Y [shape=box color=green label=\\\"Y\\nfloat((0,))\\\" fontsize=10];\\n\\n  Ma_MatMulcst [shape=box label=\\\"Ma_MatMulcst\\nfloat32((10,))\\n[  -3.668847 -248.12456   503.47675   314.42722  -...\\\" fontsize=10];\\n  Ad_Addcst [shape=box label=\\\"Ad_Addcst\\nfloat32((1,))\\n[151.72119]\\\" fontsize=10];\\n\\n  Ma_Y0 [shape=box label=\\\"Ma_Y0\\\" fontsize=10];\\n  Ma_MatMul [shape=box style=\\\"filled,rounded\\\" color=orange label=\\\"MatMul\\n(Ma_MatMul)\\\" fontsize=10];\\n  X -> Ma_MatMul;\\n  Ma_MatMulcst -> Ma_MatMul;\\n  Ma_MatMul -> Ma_Y0;\\n\\n  Ad_Add [shape=box style=\\\"filled,rounded\\\" color=orange label=\\\"Add\\n(Ad_Add)\\\" fontsize=10];\\n  Ma_Y0 -> Ad_Add;\\n  Ad_Addcst -> Ad_Add;\\n  Ad_Add -> Y;\\n}\");\n",
              "document.getElementById('M0ffce795ed694f0eba71016e066e810b').innerHTML = svgGraph; });\n",
              "\n",
              "</script>"
            ],
            "text/plain": [
              "<jyquickhelper.jspy.render_nb_js_dot.RenderJsDot at 0x27cccdd6200>"
            ]
          },
          "execution_count": 11,
          "metadata": {},
          "output_type": "execute_result"
        }
      ],
      "source": [
        "from skl2onnx.algebra.onnx_ops import OnnxMatMul, OnnxAdd\n",
        "import numpy\n",
        "\n",
        "onnx_fct = OnnxAdd(OnnxMatMul('X', clr.coef_.astype(numpy.float32), op_version=12),\n",
        "                   numpy.array([clr.intercept_], dtype=numpy.float32),\n",
        "                   output_names=['Y'], op_version=12)\n",
        "onnx_model32 = onnx_fct.to_onnx({'X': X_test.astype(numpy.float32)})\n",
        "\n",
        "# add -l 1 if nothing shows up\n",
        "%onnxview onnx_model32"
      ]
    },
    {
      "cell_type": "markdown",
      "metadata": {},
      "source": [
        "The next line uses a python runtime to compute the prediction."
      ]
    },
    {
      "cell_type": "code",
      "execution_count": 11,
      "metadata": {},
      "outputs": [
        {
          "data": {
            "text/plain": [
              "array([ 65.190895, 136.63206 , 197.7832  ,  76.509796, 120.17048 ],\n",
              "      dtype=float32)"
            ]
          },
          "execution_count": 12,
          "metadata": {},
          "output_type": "execute_result"
        }
      ],
      "source": [
        "from mlprodict.onnxrt import OnnxInference\n",
        "oinf = OnnxInference(onnx_model32, inplace=False)\n",
        "ort_pred = oinf.run({'X': X_test.astype(numpy.float32)})['Y']\n",
        "ort_pred[:5]"
      ]
    },
    {
      "cell_type": "markdown",
      "metadata": {},
      "source": [
        "And here is the same with [onnxruntime](https://github.com/microsoft/onnxruntime)..."
      ]
    },
    {
      "cell_type": "code",
      "execution_count": 12,
      "metadata": {},
      "outputs": [
        {
          "data": {
            "text/plain": [
              "array([ 65.190895, 136.63206 , 197.7832  ,  76.509796, 120.17048 ],\n",
              "      dtype=float32)"
            ]
          },
          "execution_count": 13,
          "metadata": {},
          "output_type": "execute_result"
        }
      ],
      "source": [
        "oinf = OnnxInference(onnx_model32, runtime=\"onnxruntime1\")\n",
        "ort_pred = oinf.run({'X': X_test.astype(numpy.float32)})['Y']\n",
        "ort_pred[:5]"
      ]
    },
    {
      "cell_type": "markdown",
      "metadata": {},
      "source": [
        "## With double instead of single float\n",
        "\n",
        "[ONNX](https://onnx.ai/) was originally designed for deep learning which usually uses floats but it does not mean cannot be used. Every number is converted into double floats."
      ]
    },
    {
      "cell_type": "code",
      "execution_count": 13,
      "metadata": {},
      "outputs": [],
      "source": [
        "onnx_fct = OnnxAdd(OnnxMatMul('X', clr.coef_.astype(numpy.float64), op_version=12),\n",
        "                   numpy.array([clr.intercept_], dtype=numpy.float64),\n",
        "                   output_names=['Y'], op_version=12)\n",
        "onnx_model64 = onnx_fct.to_onnx({'X': X_test.astype(numpy.float64)})"
      ]
    },
    {
      "cell_type": "markdown",
      "metadata": {},
      "source": [
        "And now the *python* runtime..."
      ]
    },
    {
      "cell_type": "code",
      "execution_count": 14,
      "metadata": {},
      "outputs": [
        {
          "data": {
            "text/plain": [
              "array([ 65.19089869, 136.63206471, 197.78320816,  76.50979441,\n",
              "       120.17048032])"
            ]
          },
          "execution_count": 15,
          "metadata": {},
          "output_type": "execute_result"
        }
      ],
      "source": [
        "oinf = OnnxInference(onnx_model64)\n",
        "ort_pred = oinf.run({'X': X_test})['Y']\n",
        "ort_pred[:5]"
      ]
    },
    {
      "cell_type": "markdown",
      "metadata": {},
      "source": [
        "And the *onnxruntime* version of it."
      ]
    },
    {
      "cell_type": "code",
      "execution_count": 15,
      "metadata": {},
      "outputs": [
        {
          "data": {
            "text/plain": [
              "array([ 65.19089869, 136.63206471, 197.78320816,  76.50979441,\n",
              "       120.17048032])"
            ]
          },
          "execution_count": 16,
          "metadata": {},
          "output_type": "execute_result"
        }
      ],
      "source": [
        "oinf = OnnxInference(onnx_model64, runtime=\"onnxruntime1\")\n",
        "ort_pred = oinf.run({'X': X_test.astype(numpy.float64)})['Y']\n",
        "ort_pred[:5]"
      ]
    },
    {
      "cell_type": "markdown",
      "metadata": {},
      "source": [
        "## And now the GaussianProcessRegressor\n",
        "\n",
        "This shows a case"
      ]
    },
    {
      "cell_type": "code",
      "execution_count": 16,
      "metadata": {},
      "outputs": [
        {
          "data": {
            "text/html": [
              "<style>#sk-container-id-2 {color: black;background-color: white;}#sk-container-id-2 pre{padding: 0;}#sk-container-id-2 div.sk-toggleable {background-color: white;}#sk-container-id-2 label.sk-toggleable__label {cursor: pointer;display: block;width: 100%;margin-bottom: 0;padding: 0.3em;box-sizing: border-box;text-align: center;}#sk-container-id-2 label.sk-toggleable__label-arrow:before {content: \"\u25b8\";float: left;margin-right: 0.25em;color: #696969;}#sk-container-id-2 label.sk-toggleable__label-arrow:hover:before {color: black;}#sk-container-id-2 div.sk-estimator:hover label.sk-toggleable__label-arrow:before {color: black;}#sk-container-id-2 div.sk-toggleable__content {max-height: 0;max-width: 0;overflow: hidden;text-align: left;background-color: #f0f8ff;}#sk-container-id-2 div.sk-toggleable__content pre {margin: 0.2em;color: black;border-radius: 0.25em;background-color: #f0f8ff;}#sk-container-id-2 input.sk-toggleable__control:checked~div.sk-toggleable__content {max-height: 200px;max-width: 100%;overflow: auto;}#sk-container-id-2 input.sk-toggleable__control:checked~label.sk-toggleable__label-arrow:before {content: \"\u25be\";}#sk-container-id-2 div.sk-estimator input.sk-toggleable__control:checked~label.sk-toggleable__label {background-color: #d4ebff;}#sk-container-id-2 div.sk-label input.sk-toggleable__control:checked~label.sk-toggleable__label {background-color: #d4ebff;}#sk-container-id-2 input.sk-hidden--visually {border: 0;clip: rect(1px 1px 1px 1px);clip: rect(1px, 1px, 1px, 1px);height: 1px;margin: -1px;overflow: hidden;padding: 0;position: absolute;width: 1px;}#sk-container-id-2 div.sk-estimator {font-family: monospace;background-color: #f0f8ff;border: 1px dotted black;border-radius: 0.25em;box-sizing: border-box;margin-bottom: 0.5em;}#sk-container-id-2 div.sk-estimator:hover {background-color: #d4ebff;}#sk-container-id-2 div.sk-parallel-item::after {content: \"\";width: 100%;border-bottom: 1px solid gray;flex-grow: 1;}#sk-container-id-2 div.sk-label:hover label.sk-toggleable__label {background-color: #d4ebff;}#sk-container-id-2 div.sk-serial::before {content: \"\";position: absolute;border-left: 1px solid gray;box-sizing: border-box;top: 0;bottom: 0;left: 50%;z-index: 0;}#sk-container-id-2 div.sk-serial {display: flex;flex-direction: column;align-items: center;background-color: white;padding-right: 0.2em;padding-left: 0.2em;position: relative;}#sk-container-id-2 div.sk-item {position: relative;z-index: 1;}#sk-container-id-2 div.sk-parallel {display: flex;align-items: stretch;justify-content: center;background-color: white;position: relative;}#sk-container-id-2 div.sk-item::before, #sk-container-id-2 div.sk-parallel-item::before {content: \"\";position: absolute;border-left: 1px solid gray;box-sizing: border-box;top: 0;bottom: 0;left: 50%;z-index: -1;}#sk-container-id-2 div.sk-parallel-item {display: flex;flex-direction: column;z-index: 1;position: relative;background-color: white;}#sk-container-id-2 div.sk-parallel-item:first-child::after {align-self: flex-end;width: 50%;}#sk-container-id-2 div.sk-parallel-item:last-child::after {align-self: flex-start;width: 50%;}#sk-container-id-2 div.sk-parallel-item:only-child::after {width: 0;}#sk-container-id-2 div.sk-dashed-wrapped {border: 1px dashed gray;margin: 0 0.4em 0.5em 0.4em;box-sizing: border-box;padding-bottom: 0.4em;background-color: white;}#sk-container-id-2 div.sk-label label {font-family: monospace;font-weight: bold;display: inline-block;line-height: 1.2em;}#sk-container-id-2 div.sk-label-container {text-align: center;}#sk-container-id-2 div.sk-container {/* jupyter's `normalize.less` sets `[hidden] { display: none; }` but bootstrap.min.css set `[hidden] { display: none !important; }` so we also need the `!important` here to be able to override the default hidden behavior on the sphinx rendered scikit-learn.org. See: https://github.com/scikit-learn/scikit-learn/issues/21755 */display: inline-block !important;position: relative;}#sk-container-id-2 div.sk-text-repr-fallback {display: none;}</style><div id=\"sk-container-id-2\" class=\"sk-top-container\"><div class=\"sk-text-repr-fallback\"><pre>GaussianProcessRegressor(alpha=10, kernel=DotProduct(sigma_0=1))</pre><b>In a Jupyter environment, please rerun this cell to show the HTML representation or trust the notebook. <br />On GitHub, the HTML representation is unable to render, please try loading this page with nbviewer.org.</b></div><div class=\"sk-container\" hidden><div class=\"sk-item\"><div class=\"sk-estimator sk-toggleable\"><input class=\"sk-toggleable__control sk-hidden--visually\" id=\"sk-estimator-id-2\" type=\"checkbox\" checked><label for=\"sk-estimator-id-2\" class=\"sk-toggleable__label sk-toggleable__label-arrow\">GaussianProcessRegressor</label><div class=\"sk-toggleable__content\"><pre>GaussianProcessRegressor(alpha=10, kernel=DotProduct(sigma_0=1))</pre></div></div></div></div></div>"
            ],
            "text/plain": [
              "GaussianProcessRegressor(alpha=10, kernel=DotProduct(sigma_0=1))"
            ]
          },
          "execution_count": 17,
          "metadata": {},
          "output_type": "execute_result"
        }
      ],
      "source": [
        "from sklearn.gaussian_process import GaussianProcessRegressor\n",
        "from sklearn.gaussian_process.kernels import DotProduct\n",
        "gau = GaussianProcessRegressor(alpha=10, kernel=DotProduct())\n",
        "gau.fit(X_train, y_train)"
      ]
    },
    {
      "cell_type": "code",
      "execution_count": 17,
      "metadata": {},
      "outputs": [
        {
          "data": {
            "text/plain": [
              "array([136.    , 146.75  , 156.875 , 137.625 , 143.6875, 157.25  ,\n",
              "       137.625 , 155.4375, 157.125 , 176.1875, 154.    , 144.6875,\n",
              "       152.875 , 163.0625, 134.5   , 169.25  , 143.4375, 156.    ,\n",
              "       147.9375, 147.5625, 143.5625, 139.5   , 167.3125, 162.8125,\n",
              "       157.5   ], dtype=float32)"
            ]
          },
          "execution_count": 18,
          "metadata": {},
          "output_type": "execute_result"
        }
      ],
      "source": [
        "from mlprodict.onnx_conv import to_onnx\n",
        "onnxgau32 = to_onnx(gau, X_train.astype(numpy.float32))\n",
        "oinf32 = OnnxInference(onnxgau32, runtime=\"python\", inplace=False)\n",
        "ort_pred32 = oinf32.run({'X': X_test.astype(numpy.float32)})['GPmean']\n",
        "numpy.squeeze(ort_pred32)[:25]"
      ]
    },
    {
      "cell_type": "code",
      "execution_count": 18,
      "metadata": {},
      "outputs": [
        {
          "data": {
            "text/plain": [
              "array([136.29042094, 147.37000865, 157.17181659, 137.37942361,\n",
              "       143.75809938, 157.26946743, 138.0470418 , 155.13779478,\n",
              "       157.13725317, 176.25699851, 154.58148006, 144.76382797,\n",
              "       152.92400576, 162.55328615, 135.01672829, 169.57752091,\n",
              "       144.15882691, 155.9305585 , 147.74172845, 147.95694225,\n",
              "       143.58627788, 139.44744308, 167.34231253, 162.89442931,\n",
              "       157.77991459])"
            ]
          },
          "execution_count": 19,
          "metadata": {},
          "output_type": "execute_result"
        }
      ],
      "source": [
        "onnxgau64 = to_onnx(gau, X_train.astype(numpy.float64))\n",
        "oinf64 = OnnxInference(onnxgau64, runtime=\"python\", inplace=False)\n",
        "ort_pred64 = oinf64.run({'X': X_test.astype(numpy.float64)})['GPmean']\n",
        "numpy.squeeze(ort_pred64)[:25]"
      ]
    },
    {
      "cell_type": "markdown",
      "metadata": {},
      "source": [
        "The differences between the predictions for single floats and double floats..."
      ]
    },
    {
      "cell_type": "code",
      "execution_count": 19,
      "metadata": {},
      "outputs": [
        {
          "data": {
            "text/plain": [
              "array([0.35428989, 0.37583714, 0.39413358, 0.46870174, 0.50921385])"
            ]
          },
          "execution_count": 20,
          "metadata": {},
          "output_type": "execute_result"
        }
      ],
      "source": [
        "numpy.sort(numpy.sort(numpy.squeeze(ort_pred32 - ort_pred64)))[-5:]"
      ]
    },
    {
      "cell_type": "markdown",
      "metadata": {},
      "source": [
        "Who's right or wrong... The differences between the predictions with the original model..."
      ]
    },
    {
      "cell_type": "code",
      "execution_count": 20,
      "metadata": {},
      "outputs": [],
      "source": [
        "pred = gau.predict(X_test.astype(numpy.float64))"
      ]
    },
    {
      "cell_type": "code",
      "execution_count": 21,
      "metadata": {},
      "outputs": [
        {
          "data": {
            "text/plain": [
              "array([[-2.53819985e+01, -2.50722714e+01, -2.14450449e+01,\n",
              "        -2.00524647e+01, -1.95723838e+01, -1.87025209e+01,\n",
              "        -1.64673125e+01, -1.59125835e+01, -1.55697413e+01,\n",
              "        -1.55154512e+01, -1.50184911e+01, -1.41483318e+01,\n",
              "        -1.40623681e+01, -1.30606141e+01, -1.30289437e+01,\n",
              "        -1.28485784e+01, -1.26562983e+01, -1.20194293e+01,\n",
              "        -1.16782862e+01, -1.11241629e+01, -1.03175536e+01,\n",
              "        -9.62974691e+00, -9.62801189e+00, -9.48419875e+00,\n",
              "        -9.35995816e+00, -9.17521553e+00, -8.87705881e+00,\n",
              "        -8.70495702e+00, -7.75760088e+00, -7.16953019e+00,\n",
              "        -7.12544216e+00, -6.90491459e+00, -6.63742534e+00,\n",
              "        -6.62542751e+00, -6.56554431e+00, -6.49066331e+00,\n",
              "        -6.39446743e+00, -6.35915325e+00, -6.32373986e+00,\n",
              "        -6.29681659e+00, -6.26225317e+00, -6.21640097e+00,\n",
              "        -5.27455577e+00, -5.05555850e+00, -4.26279478e+00,\n",
              "        -3.76824125e+00, -3.70648006e+00, -3.56134387e+00,\n",
              "        -3.53965309e+00, -3.40999971e+00, -3.24941609e+00,\n",
              "        -2.51781226e+00, -2.23055070e+00, -2.17549279e+00,\n",
              "        -2.04900576e+00, -1.56856141e+00, -4.25747090e-01,\n",
              "        -7.60603113e-02,  4.36406069e-01,  1.66633897e+00,\n",
              "         2.23583238e+00,  2.34094888e+00,  2.40322693e+00,\n",
              "         2.91733762e+00,  2.91805775e+00,  3.13327155e+00,\n",
              "         3.16460532e+00,  3.22593062e+00,  3.47124374e+00,\n",
              "         3.50499135e+00,  3.77589042e+00,  4.66605891e+00,\n",
              "         4.67679863e+00,  4.86402106e+00,  4.91204912e+00,\n",
              "         5.25337645e+00,  5.51913358e+00,  5.52309500e+00,\n",
              "         6.11117203e+00,  6.24359920e+00,  6.71617309e+00,\n",
              "         6.74395753e+00,  7.02078654e+00,  7.11690062e+00,\n",
              "         7.28872212e+00,  8.61841240e+00,  8.78399897e+00,\n",
              "         9.91193494e+00,  1.05662126e+01,  1.07342021e+01,\n",
              "         1.08129870e+01,  1.10002669e+01,  1.13923133e+01,\n",
              "         1.14275569e+01,  1.16316224e+01,  1.18395817e+01,\n",
              "         1.23588746e+01,  1.26277069e+01,  1.28279582e+01,\n",
              "         1.34955764e+01,  1.41485331e+01,  1.45845791e+01,\n",
              "         1.47292899e+01,  1.52692408e+01,  1.56045809e+01,\n",
              "         1.58122364e+01,  1.58582717e+01,  1.58897185e+01,\n",
              "         1.81760154e+01,  1.83160274e+01,  1.87306590e+01],\n",
              "       [-3.06319985e+01, -3.03222714e+01, -2.66950449e+01,\n",
              "        -2.53024647e+01, -2.48223838e+01, -2.39525209e+01,\n",
              "        -2.17173125e+01, -2.11625835e+01, -2.08197413e+01,\n",
              "        -2.07654512e+01, -2.02684911e+01, -1.93983318e+01,\n",
              "        -1.93123681e+01, -1.83106141e+01, -1.82789437e+01,\n",
              "        -1.80985784e+01, -1.79062983e+01, -1.72694293e+01,\n",
              "        -1.69282862e+01, -1.63741629e+01, -1.55675536e+01,\n",
              "        -1.48797469e+01, -1.48780119e+01, -1.47341988e+01,\n",
              "        -1.46099582e+01, -1.44252155e+01, -1.41270588e+01,\n",
              "        -1.39549570e+01, -1.30076009e+01, -1.24195302e+01,\n",
              "        -1.23754422e+01, -1.21549146e+01, -1.18874253e+01,\n",
              "        -1.18754275e+01, -1.18155443e+01, -1.17406633e+01,\n",
              "        -1.16444674e+01, -1.16091533e+01, -1.15737399e+01,\n",
              "        -1.15468166e+01, -1.15122532e+01, -1.14664010e+01,\n",
              "        -1.05245558e+01, -1.03055585e+01, -9.51279478e+00,\n",
              "        -9.01824125e+00, -8.95648006e+00, -8.81134387e+00,\n",
              "        -8.78965309e+00, -8.65999971e+00, -8.49941609e+00,\n",
              "        -7.76781226e+00, -7.48055070e+00, -7.42549279e+00,\n",
              "        -7.29900576e+00, -6.81856141e+00, -5.67574709e+00,\n",
              "        -5.32606031e+00, -4.81359393e+00, -3.58366103e+00,\n",
              "        -3.01416762e+00, -2.90905112e+00, -2.84677307e+00,\n",
              "        -2.33266238e+00, -2.33194225e+00, -2.11672845e+00,\n",
              "        -2.08539468e+00, -2.02406938e+00, -1.77875626e+00,\n",
              "        -1.74500865e+00, -1.47410958e+00, -5.83941087e-01,\n",
              "        -5.73201374e-01, -3.85978940e-01, -3.37950879e-01,\n",
              "         3.37644562e-03,  2.69133580e-01,  2.73095000e-01,\n",
              "         8.61172031e-01,  9.93599197e-01,  1.46617309e+00,\n",
              "         1.49395753e+00,  1.77078654e+00,  1.86690062e+00,\n",
              "         2.03872212e+00,  3.36841240e+00,  3.53399897e+00,\n",
              "         4.66193494e+00,  5.31621258e+00,  5.48420209e+00,\n",
              "         5.56298697e+00,  5.75026691e+00,  6.14231332e+00,\n",
              "         6.17755692e+00,  6.38162237e+00,  6.58958168e+00,\n",
              "         7.10887459e+00,  7.37770688e+00,  7.57795820e+00,\n",
              "         8.24557639e+00,  8.89853314e+00,  9.33457906e+00,\n",
              "         9.47928989e+00,  1.00192408e+01,  1.03545809e+01,\n",
              "         1.05622364e+01,  1.06082717e+01,  1.06397185e+01,\n",
              "         1.29260154e+01,  1.30660274e+01,  1.34806590e+01],\n",
              "       [-4.40069985e+01, -4.36972714e+01, -4.00700449e+01,\n",
              "        -3.86774647e+01, -3.81973838e+01, -3.73275209e+01,\n",
              "        -3.50923125e+01, -3.45375835e+01, -3.41947413e+01,\n",
              "        -3.41404512e+01, -3.36434911e+01, -3.27733318e+01,\n",
              "        -3.26873681e+01, -3.16856141e+01, -3.16539437e+01,\n",
              "        -3.14735784e+01, -3.12812983e+01, -3.06444293e+01,\n",
              "        -3.03032862e+01, -2.97491629e+01, -2.89425536e+01,\n",
              "        -2.82547469e+01, -2.82530119e+01, -2.81091988e+01,\n",
              "        -2.79849582e+01, -2.78002155e+01, -2.75020588e+01,\n",
              "        -2.73299570e+01, -2.63826009e+01, -2.57945302e+01,\n",
              "        -2.57504422e+01, -2.55299146e+01, -2.52624253e+01,\n",
              "        -2.52504275e+01, -2.51905443e+01, -2.51156633e+01,\n",
              "        -2.50194674e+01, -2.49841533e+01, -2.49487399e+01,\n",
              "        -2.49218166e+01, -2.48872532e+01, -2.48414010e+01,\n",
              "        -2.38995558e+01, -2.36805585e+01, -2.28877948e+01,\n",
              "        -2.23932412e+01, -2.23314801e+01, -2.21863439e+01,\n",
              "        -2.21646531e+01, -2.20349997e+01, -2.18744161e+01,\n",
              "        -2.11428123e+01, -2.08555507e+01, -2.08004928e+01,\n",
              "        -2.06740058e+01, -2.01935614e+01, -1.90507471e+01,\n",
              "        -1.87010603e+01, -1.81885939e+01, -1.69586610e+01,\n",
              "        -1.63891676e+01, -1.62840511e+01, -1.62217731e+01,\n",
              "        -1.57076624e+01, -1.57069422e+01, -1.54917284e+01,\n",
              "        -1.54603947e+01, -1.53990694e+01, -1.51537563e+01,\n",
              "        -1.51200087e+01, -1.48491096e+01, -1.39589411e+01,\n",
              "        -1.39482014e+01, -1.37609789e+01, -1.37129509e+01,\n",
              "        -1.33716236e+01, -1.31058664e+01, -1.31019050e+01,\n",
              "        -1.25138280e+01, -1.23814008e+01, -1.19088269e+01,\n",
              "        -1.18810425e+01, -1.16042135e+01, -1.15080994e+01,\n",
              "        -1.13362779e+01, -1.00065876e+01, -9.84100103e+00,\n",
              "        -8.71306506e+00, -8.05878742e+00, -7.89079791e+00,\n",
              "        -7.81201303e+00, -7.62473309e+00, -7.23268668e+00,\n",
              "        -7.19744308e+00, -6.99337763e+00, -6.78541832e+00,\n",
              "        -6.26612541e+00, -5.99729312e+00, -5.79704180e+00,\n",
              "        -5.12942361e+00, -4.47646686e+00, -4.04042094e+00,\n",
              "        -3.89571011e+00, -3.35575918e+00, -3.02041912e+00,\n",
              "        -2.81276360e+00, -2.76672829e+00, -2.73528153e+00,\n",
              "        -4.48984564e-01, -3.08972594e-01,  1.05659015e-01],\n",
              "       [-2.76319985e+01, -2.73222714e+01, -2.36950449e+01,\n",
              "        -2.23024647e+01, -2.18223838e+01, -2.09525209e+01,\n",
              "        -1.87173125e+01, -1.81625835e+01, -1.78197413e+01,\n",
              "        -1.77654512e+01, -1.72684911e+01, -1.63983318e+01,\n",
              "        -1.63123681e+01, -1.53106141e+01, -1.52789437e+01,\n",
              "        -1.50985784e+01, -1.49062983e+01, -1.42694293e+01,\n",
              "        -1.39282862e+01, -1.33741629e+01, -1.25675536e+01,\n",
              "        -1.18797469e+01, -1.18780119e+01, -1.17341988e+01,\n",
              "        -1.16099582e+01, -1.14252155e+01, -1.11270588e+01,\n",
              "        -1.09549570e+01, -1.00076009e+01, -9.41953019e+00,\n",
              "        -9.37544216e+00, -9.15491459e+00, -8.88742534e+00,\n",
              "        -8.87542751e+00, -8.81554431e+00, -8.74066331e+00,\n",
              "        -8.64446743e+00, -8.60915325e+00, -8.57373986e+00,\n",
              "        -8.54681659e+00, -8.51225317e+00, -8.46640097e+00,\n",
              "        -7.52455577e+00, -7.30555850e+00, -6.51279478e+00,\n",
              "        -6.01824125e+00, -5.95648006e+00, -5.81134387e+00,\n",
              "        -5.78965309e+00, -5.65999971e+00, -5.49941609e+00,\n",
              "        -4.76781226e+00, -4.48055070e+00, -4.42549279e+00,\n",
              "        -4.29900576e+00, -3.81856141e+00, -2.67574709e+00,\n",
              "        -2.32606031e+00, -1.81359393e+00, -5.83661025e-01,\n",
              "        -1.41676202e-02,  9.09488820e-02,  1.53226928e-01,\n",
              "         6.67337617e-01,  6.68057753e-01,  8.83271551e-01,\n",
              "         9.14605317e-01,  9.75930622e-01,  1.22124374e+00,\n",
              "         1.25499135e+00,  1.52589042e+00,  2.41605891e+00,\n",
              "         2.42679863e+00,  2.61402106e+00,  2.66204912e+00,\n",
              "         3.00337645e+00,  3.26913358e+00,  3.27309500e+00,\n",
              "         3.86117203e+00,  3.99359920e+00,  4.46617309e+00,\n",
              "         4.49395753e+00,  4.77078654e+00,  4.86690062e+00,\n",
              "         5.03872212e+00,  6.36841240e+00,  6.53399897e+00,\n",
              "         7.66193494e+00,  8.31621258e+00,  8.48420209e+00,\n",
              "         8.56298697e+00,  8.75026691e+00,  9.14231332e+00,\n",
              "         9.17755692e+00,  9.38162237e+00,  9.58958168e+00,\n",
              "         1.01088746e+01,  1.03777069e+01,  1.05779582e+01,\n",
              "         1.12455764e+01,  1.18985331e+01,  1.23345791e+01,\n",
              "         1.24792899e+01,  1.30192408e+01,  1.33545809e+01,\n",
              "         1.35622364e+01,  1.36082717e+01,  1.36397185e+01,\n",
              "         1.59260154e+01,  1.60660274e+01,  1.64806590e+01],\n",
              "       [-1.05069985e+01, -1.01972714e+01, -6.57004494e+00,\n",
              "        -5.17746472e+00, -4.69738380e+00, -3.82752091e+00,\n",
              "        -1.59231253e+00, -1.03758348e+00, -6.94741336e-01,\n",
              "        -6.40451168e-01, -1.43491072e-01,  7.26668170e-01,\n",
              "         8.12631942e-01,  1.81438594e+00,  1.84605634e+00,\n",
              "         2.02642158e+00,  2.21870174e+00,  2.85557069e+00,\n",
              "         3.19671385e+00,  3.75083714e+00,  4.55744644e+00,\n",
              "         5.24525309e+00,  5.24698811e+00,  5.39080125e+00,\n",
              "         5.51504184e+00,  5.69978447e+00,  5.99794119e+00,\n",
              "         6.17004298e+00,  7.11739912e+00,  7.70546981e+00,\n",
              "         7.74955784e+00,  7.97008541e+00,  8.23757466e+00,\n",
              "         8.24957249e+00,  8.30945569e+00,  8.38433669e+00,\n",
              "         8.48053257e+00,  8.51584675e+00,  8.55126014e+00,\n",
              "         8.57818341e+00,  8.61274683e+00,  8.65859903e+00,\n",
              "         9.60044423e+00,  9.81944150e+00,  1.06122052e+01,\n",
              "         1.11067588e+01,  1.11685199e+01,  1.13136561e+01,\n",
              "         1.13353469e+01,  1.14650003e+01,  1.16255839e+01,\n",
              "         1.23571877e+01,  1.26444493e+01,  1.26995072e+01,\n",
              "         1.28259942e+01,  1.33064386e+01,  1.44492529e+01,\n",
              "         1.47989397e+01,  1.53114061e+01,  1.65413390e+01,\n",
              "         1.71108324e+01,  1.72159489e+01,  1.72782269e+01,\n",
              "         1.77923376e+01,  1.77930578e+01,  1.80082716e+01,\n",
              "         1.80396053e+01,  1.81009306e+01,  1.83462437e+01,\n",
              "         1.83799913e+01,  1.86508904e+01,  1.95410589e+01,\n",
              "         1.95517986e+01,  1.97390211e+01,  1.97870491e+01,\n",
              "         2.01283764e+01,  2.03941336e+01,  2.03980950e+01,\n",
              "         2.09861720e+01,  2.11185992e+01,  2.15911731e+01,\n",
              "         2.16189575e+01,  2.18957865e+01,  2.19919006e+01,\n",
              "         2.21637221e+01,  2.34934124e+01,  2.36589990e+01,\n",
              "         2.47869349e+01,  2.54412126e+01,  2.56092021e+01,\n",
              "         2.56879870e+01,  2.58752669e+01,  2.62673133e+01,\n",
              "         2.63025569e+01,  2.65066224e+01,  2.67145817e+01,\n",
              "         2.72338746e+01,  2.75027069e+01,  2.77029582e+01,\n",
              "         2.83705764e+01,  2.90235331e+01,  2.94595791e+01,\n",
              "         2.96042899e+01,  3.01442408e+01,  3.04795809e+01,\n",
              "         3.06872364e+01,  3.07332717e+01,  3.07647185e+01,\n",
              "         3.30510154e+01,  3.31910274e+01,  3.36056590e+01]])"
            ]
          },
          "execution_count": 22,
          "metadata": {},
          "output_type": "execute_result"
        }
      ],
      "source": [
        "numpy.sort(numpy.sort(numpy.squeeze(ort_pred32 - pred)))[-5:]"
      ]
    },
    {
      "cell_type": "code",
      "execution_count": 22,
      "metadata": {},
      "outputs": [
        {
          "data": {
            "text/plain": [
              "array([[-25.3059382 , -24.9962111 , -21.36898463, -19.9764044 ,\n",
              "        -19.49632349, -18.6264606 , -16.39125222, -15.83652317,\n",
              "        -15.49368102, -15.43939086, -14.94243076, -14.07227152,\n",
              "        -13.98630775, -12.98455375, -12.95288335, -12.77251811,\n",
              "        -12.58023795, -11.943369  , -11.60222584, -11.04810255,\n",
              "        -10.24149325,  -9.5536866 ,  -9.55195157,  -9.40813844,\n",
              "         -9.28389785,  -9.09915522,  -8.80099849,  -8.62889671,\n",
              "         -7.68154057,  -7.09346988,  -7.04938185,  -6.82885428,\n",
              "         -6.56136503,  -6.54936719,  -6.489484  ,  -6.414603  ,\n",
              "         -6.31840711,  -6.28309294,  -6.24767955,  -6.22075628,\n",
              "         -6.18619286,  -6.14034066,  -5.19849546,  -4.97949819,\n",
              "         -4.18673447,  -3.69218093,  -3.63041975,  -3.48528356,\n",
              "         -3.46359277,  -3.33393939,  -3.17335578,  -2.44175195,\n",
              "         -2.15449039,  -2.09943248,  -1.97294545,  -1.4925011 ,\n",
              "         -0.34968678,   0.        ,   0.51246638,   1.74239929,\n",
              "          2.31189269,   2.41700919,   2.47928724,   2.99339793,\n",
              "          2.99411806,   3.20933186,   3.24066563,   3.30199093,\n",
              "          3.54730405,   3.58105166,   3.85195073,   4.74211922,\n",
              "          4.75285894,   4.94008137,   4.98810943,   5.32943676,\n",
              "          5.59519389,   5.59915531,   6.18723234,   6.31965951,\n",
              "          6.7922334 ,   6.82001784,   7.09684685,   7.19296094,\n",
              "          7.36478243,   8.69447271,   8.86005928,   9.98799525,\n",
              "         10.64227289,  10.8102624 ,  10.88904728,  11.07632722,\n",
              "         11.46837363,  11.50361724,  11.70768268,  11.91564199,\n",
              "         12.4349349 ,  12.70376719,  12.90401852,  13.5716367 ,\n",
              "         14.22459346,  14.66063937,  14.8053502 ,  15.34530113,\n",
              "         15.68064119,  15.88829671,  15.93433202,  15.96577878,\n",
              "         18.25207575,  18.39208772,  18.80671933],\n",
              "       [-30.63537495, -30.32564785, -26.69842139, -25.30584116,\n",
              "        -24.82576025, -23.95589736, -21.72068897, -21.16595993,\n",
              "        -20.82311778, -20.76882761, -20.27186752, -19.40170828,\n",
              "        -19.3157445 , -18.31399051, -18.28232011, -18.10195487,\n",
              "        -17.90967471, -17.27280576, -16.9316626 , -16.37753931,\n",
              "        -15.57093001, -14.88312335, -14.88138833, -14.7375752 ,\n",
              "        -14.61333461, -14.42859198, -14.13043525, -13.95833347,\n",
              "        -13.01097732, -12.42290664, -12.37881861, -12.15829103,\n",
              "        -11.89080179, -11.87880395, -11.81892076, -11.74403975,\n",
              "        -11.64784387, -11.6125297 , -11.57711631, -11.55019304,\n",
              "        -11.51562962, -11.46977742, -10.52793221, -10.30893495,\n",
              "         -9.51617123,  -9.02161769,  -8.95985651,  -8.81472032,\n",
              "         -8.79302953,  -8.66337615,  -8.50279254,  -7.77118871,\n",
              "         -7.48392715,  -7.42886923,  -7.3023822 ,  -6.82193786,\n",
              "         -5.67912354,  -5.32943676,  -4.81697038,  -3.58703747,\n",
              "         -3.01754407,  -2.91242756,  -2.85014952,  -2.33603883,\n",
              "         -2.33531869,  -2.1201049 ,  -2.08877113,  -2.02744582,\n",
              "         -1.78213271,  -1.7483851 ,  -1.47748603,  -0.58731753,\n",
              "         -0.57657782,  -0.38935539,  -0.34132732,   0.        ,\n",
              "          0.26575713,   0.26971855,   0.85779559,   0.99022275,\n",
              "          1.46279664,   1.49058108,   1.76741009,   1.86352418,\n",
              "          2.03534568,   3.36503596,   3.53062253,   4.6585585 ,\n",
              "          5.31283614,   5.48082565,   5.55961053,   5.74689046,\n",
              "          6.13893687,   6.17418048,   6.37824592,   6.58620523,\n",
              "          7.10549815,   7.37433043,   7.57458176,   8.24219994,\n",
              "          8.8951567 ,   9.33120262,   9.47591344,  10.01586437,\n",
              "         10.35120443,  10.55885996,  10.60489527,  10.63634202,\n",
              "         12.92263899,  13.06265096,  13.47728257],\n",
              "       [-43.69802592, -43.38829881, -39.76107235, -38.36849212,\n",
              "        -37.88841121, -37.01854832, -34.78333993, -34.22861089,\n",
              "        -33.88576874, -33.83147857, -33.33451848, -32.46435924,\n",
              "        -32.37839546, -31.37664147, -31.34497107, -31.16460583,\n",
              "        -30.97232567, -30.33545672, -29.99431356, -29.44019027,\n",
              "        -28.63358097, -27.94577431, -27.94403929, -27.80022616,\n",
              "        -27.67598557, -27.49124294, -27.19308621, -27.02098443,\n",
              "        -26.07362829, -25.4855576 , -25.44146957, -25.22094199,\n",
              "        -24.95345275, -24.94145491, -24.88157172, -24.80669071,\n",
              "        -24.71049483, -24.67518066, -24.63976727, -24.612844  ,\n",
              "        -24.57828058, -24.53242838, -23.59058318, -23.37158591,\n",
              "        -22.57882219, -22.08426865, -22.02250747, -21.87737128,\n",
              "        -21.85568049, -21.72602711, -21.5654435 , -20.83383967,\n",
              "        -20.54657811, -20.49152019, -20.36503316, -19.88458882,\n",
              "        -18.7417745 , -18.39208772, -17.87962134, -16.64968843,\n",
              "        -16.08019503, -15.97507852, -15.91280048, -15.39868979,\n",
              "        -15.39796965, -15.18275586, -15.15142209, -15.09009678,\n",
              "        -14.84478367, -14.81103606, -14.54013699, -13.64996849,\n",
              "        -13.63922878, -13.45200635, -13.40397829, -13.06265096,\n",
              "        -12.79689383, -12.79293241, -12.20485538, -12.07242821,\n",
              "        -11.59985432, -11.57206988, -11.29524087, -11.19912678,\n",
              "        -11.02730529,  -9.69761501,  -9.53202843,  -8.40409246,\n",
              "         -7.74981482,  -7.58182532,  -7.50304043,  -7.3157605 ,\n",
              "         -6.92371409,  -6.88847048,  -6.68440504,  -6.47644573,\n",
              "         -5.95715282,  -5.68832053,  -5.4880692 ,  -4.82045102,\n",
              "         -4.16749426,  -3.73144834,  -3.58673752,  -3.04678659,\n",
              "         -2.71144653,  -2.50379101,  -2.45775569,  -2.42630894,\n",
              "         -0.14001197,   0.        ,   0.41463161],\n",
              "       [-27.61783089, -27.30810379, -23.68087732, -22.2882971 ,\n",
              "        -21.80821618, -20.93835329, -18.70314491, -18.14841586,\n",
              "        -17.80557372, -17.75128355, -17.25432345, -16.38416421,\n",
              "        -16.29820044, -15.29644644, -15.26477604, -15.0844108 ,\n",
              "        -14.89213064, -14.25526169, -13.91411853, -13.35999524,\n",
              "        -12.55338594, -11.86557929, -11.86384427, -11.72003113,\n",
              "        -11.59579054, -11.41104791, -11.11289119, -10.9407894 ,\n",
              "         -9.99343326,  -9.40536257,  -9.36127454,  -9.14074697,\n",
              "         -8.87325772,  -8.86125988,  -8.80137669,  -8.72649569,\n",
              "         -8.63029981,  -8.59498563,  -8.55957224,  -8.53264897,\n",
              "         -8.49808555,  -8.45223335,  -7.51038815,  -7.29139088,\n",
              "         -6.49862716,  -6.00407362,  -5.94231244,  -5.79717625,\n",
              "         -5.77548547,  -5.64583209,  -5.48524847,  -4.75364464,\n",
              "         -4.46638308,  -4.41132517,  -4.28483814,  -3.80439379,\n",
              "         -2.66157947,  -2.31189269,  -1.79942631,  -0.5694934 ,\n",
              "          0.        ,   0.1051165 ,   0.16739455,   0.68150524,\n",
              "          0.68222537,   0.89743917,   0.92877294,   0.99009824,\n",
              "          1.23541136,   1.26915897,   1.54005804,   2.43022653,\n",
              "          2.44096625,   2.62818868,   2.67621674,   3.01754407,\n",
              "          3.2833012 ,   3.28726262,   3.87533965,   4.00776682,\n",
              "          4.48034071,   4.50812515,   4.78495416,   4.88106824,\n",
              "          5.05288974,   6.38258002,   6.54816659,   7.67610256,\n",
              "          8.3303802 ,   8.49836971,   8.57715459,   8.76443453,\n",
              "          9.15648094,   9.19172454,   9.39578999,   9.6037493 ,\n",
              "         10.12304221,  10.3918745 ,  10.59212582,  11.25974401,\n",
              "         11.91270076,  12.34874668,  12.49345751,  13.03340844,\n",
              "         13.3687485 ,  13.57640402,  13.62243933,  13.65388609,\n",
              "         15.94018306,  16.08019503,  16.49482663],\n",
              "       [-10.36350744, -10.05378034,  -6.42655387,  -5.03397364,\n",
              "         -4.55389273,  -3.68402984,  -1.44882146,  -0.89409241,\n",
              "         -0.55125026,  -0.4969601 ,   0.        ,   0.87015924,\n",
              "          0.95612301,   1.95787701,   1.98954741,   2.16991265,\n",
              "          2.36219281,   2.99906176,   3.34020492,   3.89432821,\n",
              "          4.70093751,   5.38874416,   5.39047919,   5.53429232,\n",
              "          5.65853291,   5.84327554,   6.14143227,   6.31353405,\n",
              "          7.26089019,   7.84896088,   7.89304891,   8.11357648,\n",
              "          8.38106573,   8.39306357,   8.45294676,   8.52782776,\n",
              "          8.62402365,   8.65933782,   8.69475121,   8.72167448,\n",
              "          8.7562379 ,   8.8020901 ,   9.7439353 ,   9.96293257,\n",
              "         10.75569629,  11.25024983,  11.31201101,  11.4571472 ,\n",
              "         11.47883799,  11.60849137,  11.76907498,  12.50067881,\n",
              "         12.78794037,  12.84299828,  12.96948531,  13.44992966,\n",
              "         14.59274398,  14.94243076,  15.45489714,  16.68483005,\n",
              "         17.25432345,  17.35943995,  17.421718  ,  17.93582869,\n",
              "         17.93654882,  18.15176262,  18.18309639,  18.24442169,\n",
              "         18.48973481,  18.52348242,  18.79438149,  19.68454998,\n",
              "         19.6952897 ,  19.88251213,  19.93054019,  20.27186752,\n",
              "         20.53762465,  20.54158607,  21.1296631 ,  21.26209027,\n",
              "         21.73466416,  21.7624486 ,  22.03927761,  22.1353917 ,\n",
              "         22.30721319,  23.63690347,  23.80249004,  24.93042601,\n",
              "         25.58470365,  25.75269316,  25.83147804,  26.01875798,\n",
              "         26.41080439,  26.446048  ,  26.65011344,  26.85807275,\n",
              "         27.37736566,  27.64619795,  27.84644928,  28.51406746,\n",
              "         29.16702422,  29.60307013,  29.74778096,  30.28773189,\n",
              "         30.62307195,  30.83072747,  30.87676278,  30.90820954,\n",
              "         33.19450651,  33.33451848,  33.74915009]])"
            ]
          },
          "execution_count": 23,
          "metadata": {},
          "output_type": "execute_result"
        }
      ],
      "source": [
        "numpy.sort(numpy.sort(numpy.squeeze(ort_pred64 - pred)))[-5:]"
      ]
    },
    {
      "cell_type": "markdown",
      "metadata": {},
      "source": [
        "Double predictions clearly wins."
      ]
    },
    {
      "cell_type": "code",
      "execution_count": 23,
      "metadata": {
        "scrolled": false
      },
      "outputs": [
        {
          "data": {
            "text/html": [
              "<div id=\"M78d8c8a8acaa47d3a9c75fe9820c8949-cont\"><div id=\"M78d8c8a8acaa47d3a9c75fe9820c8949\" style=\"width:;height:;\"></div></div>\n",
              "<script>\n",
              "\n",
              "require(['http://www.xavierdupre.fr/js/vizjs/viz.js'], function() { var svgGraph = Viz(\"digraph{\\n  nodesep=0.05;\\n  orientation=portrait;\\n  ranksep=0.25;\\n  size=7;\\n\\n  X [shape=box color=red label=\\\"X\\ndouble((0, 10))\\\" fontsize=10];\\n\\n  GPmean [shape=box color=green label=\\\"GPmean\\ndouble((0, 1))\\\" fontsize=10];\\n\\n  kgpd_MatMulcst [shape=box label=\\\"kgpd_MatMulcst\\nfloat64((10, 331))\\n[[-0.10359309 -0.00914709  0.01628068 ...  0.04897...\\\" fontsize=10];\\n  kgpd_Addcst [shape=box label=\\\"kgpd_Addcst\\nfloat64((1,))\\n[23321.93527751]\\\" fontsize=10];\\n  gpr_MatMulcst [shape=box label=\\\"gpr_MatMulcst\\nfloat64((331,))\\n[ -6.72747465   3.36355011  -4.67521462  -7.969895...\\\" fontsize=10];\\n  gpr_Addcst [shape=box label=\\\"gpr_Addcst\\nfloat64((1, 1))\\n[[0.]]\\\" fontsize=10];\\n  Re_Reshapecst [shape=box label=\\\"Re_Reshapecst\\nint64((2,))\\n[-1  1]\\\" fontsize=10];\\n\\n  kgpd_Y0 [shape=box label=\\\"kgpd_Y0\\\" fontsize=10];\\n  kgpd_MatMul [shape=box style=\\\"filled,rounded\\\" color=orange label=\\\"MatMul\\n(kgpd_MatMul)\\\" fontsize=10];\\n  X -> kgpd_MatMul;\\n  kgpd_MatMulcst -> kgpd_MatMul;\\n  kgpd_MatMul -> kgpd_Y0;\\n\\n  kgpd_C0 [shape=box label=\\\"kgpd_C0\\\" fontsize=10];\\n  kgpd_Add [shape=box style=\\\"filled,rounded\\\" color=orange label=\\\"Add\\n(kgpd_Add)\\\" fontsize=10];\\n  kgpd_Y0 -> kgpd_Add;\\n  kgpd_Addcst -> kgpd_Add;\\n  kgpd_Add -> kgpd_C0;\\n\\n  gpr_Y0 [shape=box label=\\\"gpr_Y0\\\" fontsize=10];\\n  gpr_MatMul [shape=box style=\\\"filled,rounded\\\" color=orange label=\\\"MatMul\\n(gpr_MatMul)\\\" fontsize=10];\\n  kgpd_C0 -> gpr_MatMul;\\n  gpr_MatMulcst -> gpr_MatMul;\\n  gpr_MatMul -> gpr_Y0;\\n\\n  gpr_C0 [shape=box label=\\\"gpr_C0\\\" fontsize=10];\\n  gpr_Add [shape=box style=\\\"filled,rounded\\\" color=orange label=\\\"Add\\n(gpr_Add)\\\" fontsize=10];\\n  gpr_Y0 -> gpr_Add;\\n  gpr_Addcst -> gpr_Add;\\n  gpr_Add -> gpr_C0;\\n\\n  Re_Reshape [shape=box style=\\\"filled,rounded\\\" color=orange label=\\\"Reshape\\n(Re_Reshape)\\nallowzero=0\\\" fontsize=10];\\n  gpr_C0 -> Re_Reshape;\\n  Re_Reshapecst -> Re_Reshape;\\n  Re_Reshape -> GPmean;\\n}\");\n",
              "document.getElementById('M78d8c8a8acaa47d3a9c75fe9820c8949').innerHTML = svgGraph; });\n",
              "\n",
              "</script>"
            ],
            "text/plain": [
              "<jyquickhelper.jspy.render_nb_js_dot.RenderJsDot at 0x27ccd59ddb0>"
            ]
          },
          "execution_count": 24,
          "metadata": {},
          "output_type": "execute_result"
        }
      ],
      "source": [
        "# add -l 1 if nothing shows up\n",
        "%onnxview onnxgau64"
      ]
    },
    {
      "cell_type": "markdown",
      "metadata": {},
      "source": [
        "## Saves...\n",
        "\n",
        "Let's keep track of it."
      ]
    },
    {
      "cell_type": "code",
      "execution_count": 24,
      "metadata": {},
      "outputs": [
        {
          "data": {
            "text/html": [
              "<a href='gpr_dot_product_boston_32.onnx' target='_blank'>gpr_dot_product_boston_32.onnx</a><br>"
            ],
            "text/plain": [
              "C:\\xavierdupre\\__home_\\GitHub\\mlprodict\\_doc\\notebooks\\gpr_dot_product_boston_32.onnx"
            ]
          },
          "execution_count": 25,
          "metadata": {},
          "output_type": "execute_result"
        }
      ],
      "source": [
        "with open(\"gpr_dot_product_boston_32.onnx\", \"wb\") as f:\n",
        "    f.write(onnxgau32.SerializePartialToString())\n",
        "from IPython.display import FileLink\n",
        "FileLink('gpr_dot_product_boston_32.onnx')"
      ]
    },
    {
      "cell_type": "code",
      "execution_count": 25,
      "metadata": {},
      "outputs": [
        {
          "data": {
            "text/html": [
              "<a href='gpr_dot_product_boston_64.onnx' target='_blank'>gpr_dot_product_boston_64.onnx</a><br>"
            ],
            "text/plain": [
              "C:\\xavierdupre\\__home_\\GitHub\\mlprodict\\_doc\\notebooks\\gpr_dot_product_boston_64.onnx"
            ]
          },
          "execution_count": 26,
          "metadata": {},
          "output_type": "execute_result"
        }
      ],
      "source": [
        "with open(\"gpr_dot_product_boston_64.onnx\", \"wb\") as f:\n",
        "    f.write(onnxgau64.SerializePartialToString())\n",
        "FileLink('gpr_dot_product_boston_64.onnx')"
      ]
    },
    {
      "cell_type": "markdown",
      "metadata": {},
      "source": [
        "## Side by side\n",
        "\n",
        "We may wonder where the discrepencies start. But for that, we need to do a side by side."
      ]
    },
    {
      "cell_type": "code",
      "execution_count": 26,
      "metadata": {},
      "outputs": [
        {
          "data": {
            "text/html": [
              "<div>\n",
              "<style scoped>\n",
              "    .dataframe tbody tr th:only-of-type {\n",
              "        vertical-align: middle;\n",
              "    }\n",
              "\n",
              "    .dataframe tbody tr th {\n",
              "        vertical-align: top;\n",
              "    }\n",
              "\n",
              "    .dataframe thead th {\n",
              "        text-align: right;\n",
              "    }\n",
              "</style>\n",
              "<table border=\"1\" class=\"dataframe\">\n",
              "  <thead>\n",
              "    <tr style=\"text-align: right;\">\n",
              "      <th></th>\n",
              "      <th>metric</th>\n",
              "      <th>step</th>\n",
              "      <th>v[0]</th>\n",
              "      <th>v[1]</th>\n",
              "      <th>cmp</th>\n",
              "      <th>name</th>\n",
              "      <th>order[0]</th>\n",
              "      <th>value[0]</th>\n",
              "      <th>shape[0]</th>\n",
              "      <th>order[1]</th>\n",
              "      <th>value[1]</th>\n",
              "      <th>shape[1]</th>\n",
              "    </tr>\n",
              "  </thead>\n",
              "  <tbody>\n",
              "    <tr>\n",
              "      <th>0</th>\n",
              "      <td>nb_results</td>\n",
              "      <td>-1</td>\n",
              "      <td>11</td>\n",
              "      <td>1.100000e+01</td>\n",
              "      <td>OK</td>\n",
              "      <td>NaN</td>\n",
              "      <td>NaN</td>\n",
              "      <td>NaN</td>\n",
              "      <td>NaN</td>\n",
              "      <td>NaN</td>\n",
              "      <td>NaN</td>\n",
              "      <td>NaN</td>\n",
              "    </tr>\n",
              "    <tr>\n",
              "      <th>1</th>\n",
              "      <td>abs-diff</td>\n",
              "      <td>0</td>\n",
              "      <td>0</td>\n",
              "      <td>7.184343e-09</td>\n",
              "      <td>OK</td>\n",
              "      <td>X</td>\n",
              "      <td>0.0</td>\n",
              "      <td>[[-0.0018820165, -0.044641636, -0.05147406, -0...</td>\n",
              "      <td>(111, 10)</td>\n",
              "      <td>0.0</td>\n",
              "      <td>[[-0.0018820165277906047, -0.04464163650698914...</td>\n",
              "      <td>(111, 10)</td>\n",
              "    </tr>\n",
              "    <tr>\n",
              "      <th>2</th>\n",
              "      <td>abs-diff</td>\n",
              "      <td>1</td>\n",
              "      <td>0</td>\n",
              "      <td>7.241096e-01</td>\n",
              "      <td>ERROR-&gt;=0.7</td>\n",
              "      <td>GPmean</td>\n",
              "      <td>5.0</td>\n",
              "      <td>[[136.0], [146.75], [156.875], [137.625], [143...</td>\n",
              "      <td>(111, 1)</td>\n",
              "      <td>5.0</td>\n",
              "      <td>[[136.2904209381668], [147.37000865291338], [1...</td>\n",
              "      <td>(111, 1)</td>\n",
              "    </tr>\n",
              "    <tr>\n",
              "      <th>3</th>\n",
              "      <td>abs-diff</td>\n",
              "      <td>2</td>\n",
              "      <td>0</td>\n",
              "      <td>7.150779e-09</td>\n",
              "      <td>OK</td>\n",
              "      <td>kgpd_MatMulcst</td>\n",
              "      <td>-1.0</td>\n",
              "      <td>[[-0.103593096, -0.009147094, 0.016280675, -0....</td>\n",
              "      <td>(10, 331)</td>\n",
              "      <td>-1.0</td>\n",
              "      <td>[[-0.10359309315633439, -0.009147093429829445,...</td>\n",
              "      <td>(10, 331)</td>\n",
              "    </tr>\n",
              "    <tr>\n",
              "      <th>4</th>\n",
              "      <td>abs-diff</td>\n",
              "      <td>3</td>\n",
              "      <td>0</td>\n",
              "      <td>2.693608e-04</td>\n",
              "      <td>e&lt;0.001</td>\n",
              "      <td>kgpd_Addcst</td>\n",
              "      <td>-1.0</td>\n",
              "      <td>[23321.936]</td>\n",
              "      <td>(1,)</td>\n",
              "      <td>-1.0</td>\n",
              "      <td>[23321.93527751423]</td>\n",
              "      <td>(1,)</td>\n",
              "    </tr>\n",
              "    <tr>\n",
              "      <th>5</th>\n",
              "      <td>abs-diff</td>\n",
              "      <td>4</td>\n",
              "      <td>0</td>\n",
              "      <td>9.174340e-07</td>\n",
              "      <td>OK</td>\n",
              "      <td>gpr_MatMulcst</td>\n",
              "      <td>-1.0</td>\n",
              "      <td>[-6.7274747, 3.3635502, -4.675215, -7.969895, ...</td>\n",
              "      <td>(331,)</td>\n",
              "      <td>-1.0</td>\n",
              "      <td>[-6.7274746537081995, 3.363550107698292, -4.67...</td>\n",
              "      <td>(331,)</td>\n",
              "    </tr>\n",
              "    <tr>\n",
              "      <th>6</th>\n",
              "      <td>abs-diff</td>\n",
              "      <td>5</td>\n",
              "      <td>0</td>\n",
              "      <td>0.000000e+00</td>\n",
              "      <td>OK</td>\n",
              "      <td>gpr_Addcst</td>\n",
              "      <td>-1.0</td>\n",
              "      <td>[[0.0]]</td>\n",
              "      <td>(1, 1)</td>\n",
              "      <td>-1.0</td>\n",
              "      <td>[[0.0]]</td>\n",
              "      <td>(1, 1)</td>\n",
              "    </tr>\n",
              "    <tr>\n",
              "      <th>7</th>\n",
              "      <td>abs-diff</td>\n",
              "      <td>6</td>\n",
              "      <td>0</td>\n",
              "      <td>0.000000e+00</td>\n",
              "      <td>OK</td>\n",
              "      <td>Re_Reshapecst</td>\n",
              "      <td>-1.0</td>\n",
              "      <td>[-1, 1]</td>\n",
              "      <td>(2,)</td>\n",
              "      <td>-1.0</td>\n",
              "      <td>[-1, 1]</td>\n",
              "      <td>(2,)</td>\n",
              "    </tr>\n",
              "    <tr>\n",
              "      <th>8</th>\n",
              "      <td>abs-diff</td>\n",
              "      <td>7</td>\n",
              "      <td>0</td>\n",
              "      <td>7.989149e-09</td>\n",
              "      <td>OK</td>\n",
              "      <td>kgpd_Y0</td>\n",
              "      <td>1.0</td>\n",
              "      <td>[[0.013952837, 0.004027498, 0.0033139654, 0.01...</td>\n",
              "      <td>(111, 331)</td>\n",
              "      <td>1.0</td>\n",
              "      <td>[[0.013952837286119372, 0.0040274979445440616,...</td>\n",
              "      <td>(111, 331)</td>\n",
              "    </tr>\n",
              "    <tr>\n",
              "      <th>9</th>\n",
              "      <td>abs-diff</td>\n",
              "      <td>8</td>\n",
              "      <td>0</td>\n",
              "      <td>1.245899e-03</td>\n",
              "      <td>e&lt;0.01</td>\n",
              "      <td>kgpd_C0</td>\n",
              "      <td>2.0</td>\n",
              "      <td>[[23321.95, 23321.94, 23321.94, 23321.953, 233...</td>\n",
              "      <td>(111, 331)</td>\n",
              "      <td>2.0</td>\n",
              "      <td>[[23321.949230351514, 23321.939305012173, 2332...</td>\n",
              "      <td>(111, 331)</td>\n",
              "    </tr>\n",
              "    <tr>\n",
              "      <th>10</th>\n",
              "      <td>abs-diff</td>\n",
              "      <td>9</td>\n",
              "      <td>0</td>\n",
              "      <td>7.241096e-01</td>\n",
              "      <td>ERROR-&gt;=0.7</td>\n",
              "      <td>gpr_Y0</td>\n",
              "      <td>3.0</td>\n",
              "      <td>[136.0, 146.75, 156.875, 137.625, 143.6875, 15...</td>\n",
              "      <td>(111,)</td>\n",
              "      <td>3.0</td>\n",
              "      <td>[136.2904209381668, 147.37000865291338, 157.17...</td>\n",
              "      <td>(111,)</td>\n",
              "    </tr>\n",
              "    <tr>\n",
              "      <th>11</th>\n",
              "      <td>abs-diff</td>\n",
              "      <td>10</td>\n",
              "      <td>0</td>\n",
              "      <td>7.241096e-01</td>\n",
              "      <td>ERROR-&gt;=0.7</td>\n",
              "      <td>gpr_C0</td>\n",
              "      <td>4.0</td>\n",
              "      <td>[[136.0, 146.75, 156.875, 137.625, 143.6875, 1...</td>\n",
              "      <td>(1, 111)</td>\n",
              "      <td>4.0</td>\n",
              "      <td>[[136.2904209381668, 147.37000865291338, 157.1...</td>\n",
              "      <td>(1, 111)</td>\n",
              "    </tr>\n",
              "  </tbody>\n",
              "</table>\n",
              "</div>"
            ],
            "text/plain": [
              "        metric  step  v[0]          v[1]          cmp            name  \\\n",
              "0   nb_results    -1    11  1.100000e+01           OK             NaN   \n",
              "1     abs-diff     0     0  7.184343e-09           OK               X   \n",
              "2     abs-diff     1     0  7.241096e-01  ERROR->=0.7          GPmean   \n",
              "3     abs-diff     2     0  7.150779e-09           OK  kgpd_MatMulcst   \n",
              "4     abs-diff     3     0  2.693608e-04      e<0.001     kgpd_Addcst   \n",
              "5     abs-diff     4     0  9.174340e-07           OK   gpr_MatMulcst   \n",
              "6     abs-diff     5     0  0.000000e+00           OK      gpr_Addcst   \n",
              "7     abs-diff     6     0  0.000000e+00           OK   Re_Reshapecst   \n",
              "8     abs-diff     7     0  7.989149e-09           OK         kgpd_Y0   \n",
              "9     abs-diff     8     0  1.245899e-03       e<0.01         kgpd_C0   \n",
              "10    abs-diff     9     0  7.241096e-01  ERROR->=0.7          gpr_Y0   \n",
              "11    abs-diff    10     0  7.241096e-01  ERROR->=0.7          gpr_C0   \n",
              "\n",
              "    order[0]                                           value[0]    shape[0]  \\\n",
              "0        NaN                                                NaN         NaN   \n",
              "1        0.0  [[-0.0018820165, -0.044641636, -0.05147406, -0...   (111, 10)   \n",
              "2        5.0  [[136.0], [146.75], [156.875], [137.625], [143...    (111, 1)   \n",
              "3       -1.0  [[-0.103593096, -0.009147094, 0.016280675, -0....   (10, 331)   \n",
              "4       -1.0                                        [23321.936]        (1,)   \n",
              "5       -1.0  [-6.7274747, 3.3635502, -4.675215, -7.969895, ...      (331,)   \n",
              "6       -1.0                                            [[0.0]]      (1, 1)   \n",
              "7       -1.0                                            [-1, 1]        (2,)   \n",
              "8        1.0  [[0.013952837, 0.004027498, 0.0033139654, 0.01...  (111, 331)   \n",
              "9        2.0  [[23321.95, 23321.94, 23321.94, 23321.953, 233...  (111, 331)   \n",
              "10       3.0  [136.0, 146.75, 156.875, 137.625, 143.6875, 15...      (111,)   \n",
              "11       4.0  [[136.0, 146.75, 156.875, 137.625, 143.6875, 1...    (1, 111)   \n",
              "\n",
              "    order[1]                                           value[1]    shape[1]  \n",
              "0        NaN                                                NaN         NaN  \n",
              "1        0.0  [[-0.0018820165277906047, -0.04464163650698914...   (111, 10)  \n",
              "2        5.0  [[136.2904209381668], [147.37000865291338], [1...    (111, 1)  \n",
              "3       -1.0  [[-0.10359309315633439, -0.009147093429829445,...   (10, 331)  \n",
              "4       -1.0                                [23321.93527751423]        (1,)  \n",
              "5       -1.0  [-6.7274746537081995, 3.363550107698292, -4.67...      (331,)  \n",
              "6       -1.0                                            [[0.0]]      (1, 1)  \n",
              "7       -1.0                                            [-1, 1]        (2,)  \n",
              "8        1.0  [[0.013952837286119372, 0.0040274979445440616,...  (111, 331)  \n",
              "9        2.0  [[23321.949230351514, 23321.939305012173, 2332...  (111, 331)  \n",
              "10       3.0  [136.2904209381668, 147.37000865291338, 157.17...      (111,)  \n",
              "11       4.0  [[136.2904209381668, 147.37000865291338, 157.1...    (1, 111)  "
            ]
          },
          "execution_count": 27,
          "metadata": {},
          "output_type": "execute_result"
        }
      ],
      "source": [
        "from mlprodict.onnxrt.validate.side_by_side import side_by_side_by_values\n",
        "sbs = side_by_side_by_values([(oinf32, {'X': X_test.astype(numpy.float32)}),\n",
        "                              (oinf64, {'X': X_test.astype(numpy.float64)})])\n",
        "\n",
        "from pandas import DataFrame\n",
        "df = DataFrame(sbs)\n",
        "# dfd = df.drop(['value[0]', 'value[1]', 'value[2]'], axis=1).copy()\n",
        "df"
      ]
    },
    {
      "cell_type": "markdown",
      "metadata": {},
      "source": [
        "The differences really starts for output ``'O0'`` after the matrix multiplication. This matrix melts different number with very different order of magnitudes and that alone explains the discrepencies with doubles and floats on that particular model."
      ]
    },
    {
      "cell_type": "code",
      "execution_count": 27,
      "metadata": {},
      "outputs": [
        {
          "data": {
            "image/png": "[encoded data removed]",
            "text/plain": [
              "<Figure size 1008x288 with 1 Axes>"
            ]
          },
          "metadata": {
            "needs_background": "light"
          },
          "output_type": "display_data"
        }
      ],
      "source": [
        "%matplotlib inline\n",
        "ax = df[['name', 'v[1]']].iloc[1:].set_index('name').plot(kind='bar', figsize=(14,4), logy=True)\n",
        "ax.set_title(\"Relative differences for each output between float32 and \"\n",
        "             \"float64\\nfor a GaussianProcessRegressor\");"
      ]
    },
    {
      "cell_type": "markdown",
      "metadata": {},
      "source": [
        "Before going further, let's check how sensitive the trained model is about converting double into floats."
      ]
    },
    {
      "cell_type": "code",
      "execution_count": 28,
      "metadata": {},
      "outputs": [
        {
          "data": {
            "text/plain": [
              "array([2.71829776e-07, 2.75555067e-07, 2.98605300e-07, 3.28873284e-07,\n",
              "       3.92203219e-07])"
            ]
          },
          "execution_count": 29,
          "metadata": {},
          "output_type": "execute_result"
        }
      ],
      "source": [
        "pg1 = gau.predict(X_test)\n",
        "pg2 = gau.predict(X_test.astype(numpy.float32).astype(numpy.float64))\n",
        "numpy.sort(numpy.sort(numpy.squeeze(pg1 - pg2)))[-5:]"
      ]
    },
    {
      "cell_type": "markdown",
      "metadata": {},
      "source": [
        "Having float or double inputs should not matter. We confirm that with the model converted into ONNX."
      ]
    },
    {
      "cell_type": "code",
      "execution_count": 29,
      "metadata": {},
      "outputs": [
        {
          "data": {
            "text/plain": [
              "array([2.71829776e-07, 2.75555067e-07, 2.98605300e-07, 3.28873284e-07,\n",
              "       3.92203219e-07])"
            ]
          },
          "execution_count": 30,
          "metadata": {},
          "output_type": "execute_result"
        }
      ],
      "source": [
        "p1 = oinf64.run({'X': X_test})['GPmean']\n",
        "p2 = oinf64.run({'X': X_test.astype(numpy.float32).astype(numpy.float64)})['GPmean']\n",
        "numpy.sort(numpy.sort(numpy.squeeze(p1 - p2)))[-5:]"
      ]
    },
    {
      "cell_type": "markdown",
      "metadata": {},
      "source": [
        "Last verification."
      ]
    },
    {
      "cell_type": "code",
      "execution_count": 30,
      "metadata": {},
      "outputs": [
        {
          "data": {
            "image/png": "[encoded data removed]",
            "text/plain": [
              "<Figure size 1008x288 with 1 Axes>"
            ]
          },
          "metadata": {
            "needs_background": "light"
          },
          "output_type": "display_data"
        }
      ],
      "source": [
        "sbs = side_by_side_by_values([(oinf64, {'X': X_test.astype(numpy.float32).astype(numpy.float64)}),\n",
        "                              (oinf64, {'X': X_test.astype(numpy.float64)})])\n",
        "df = DataFrame(sbs)\n",
        "ax = df[['name', 'v[1]']].iloc[1:].set_index('name').plot(kind='bar', figsize=(14,4), logy=True)\n",
        "ax.set_title(\"Relative differences for each output between float64 and float64 rounded to float32\"\n",
        "             \"\\nfor a GaussianProcessRegressor\");"
      ]
    },
    {
      "cell_type": "code",
      "execution_count": 31,
      "metadata": {},
      "outputs": [],
      "source": []
    }
  ],
  "metadata": {
    "kernelspec": {
      "display_name": "Python 3 (ipykernel)",
      "language": "python",
      "name": "python3"
    },
    "language_info": {
      "codemirror_mode": {
        "name": "ipython",
        "version": 3
      },
      "file_extension": ".py",
      "mimetype": "text/x-python",
      "name": "python",
      "nbconvert_exporter": "python",
      "pygments_lexer": "ipython3",
      "version": "3.10.5"
    }
  },
  "nbformat": 4,
  "nbformat_minor": 2
}